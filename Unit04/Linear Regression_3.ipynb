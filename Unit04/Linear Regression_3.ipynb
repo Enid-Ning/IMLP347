{
 "cells": [
  {
   "cell_type": "markdown",
   "metadata": {},
   "source": [
    "# Linear Regression\n"
   ]
  },
  {
   "cell_type": "code",
   "execution_count": 1,
   "metadata": {},
   "outputs": [],
   "source": [
    "%matplotlib inline\n",
    "import numpy as np\n",
    "import matplotlib.pyplot as plt\n",
    "from sklearn.linear_model import LinearRegression"
   ]
  },
  {
   "cell_type": "markdown",
   "metadata": {},
   "source": [
    "## 3. Nonlinear\n",
    "\n",
    "$$f(x) = \\sin(3.2x) + 0.8x$$\n"
   ]
  },
  {
   "cell_type": "markdown",
   "metadata": {},
   "source": [
    "### 3. 生成假資料"
   ]
  },
  {
   "cell_type": "code",
   "execution_count": 2,
   "metadata": {},
   "outputs": [],
   "source": [
    "x = np.linspace(0, 5, 100)\n",
    "y = np.sin(3.2*x) + 0.8*x + 0.3*np.random.randn(100)"
   ]
  },
  {
   "cell_type": "code",
   "execution_count": 3,
   "metadata": {},
   "outputs": [
    {
     "data": {
      "text/plain": [
       "<matplotlib.collections.PathCollection at 0x2b8e7967e50>"
      ]
     },
     "execution_count": 3,
     "metadata": {},
     "output_type": "execute_result"
    },
    {
     "data": {
      "image/png": "[encoded data removed]",
      "text/plain": [
       "<Figure size 432x288 with 1 Axes>"
      ]
     },
     "metadata": {
      "needs_background": "light"
     },
     "output_type": "display_data"
    }
   ],
   "source": [
    "plt.scatter(x,y)"
   ]
  },
  {
   "cell_type": "markdown",
   "metadata": {},
   "source": [
    "#### nonlinear"
   ]
  },
  {
   "cell_type": "code",
   "execution_count": 4,
   "metadata": {},
   "outputs": [],
   "source": [
    "regr_lin = LinearRegression()"
   ]
  },
  {
   "cell_type": "code",
   "execution_count": 8,
   "metadata": {},
   "outputs": [
    {
     "name": "stdout",
     "output_type": "stream",
     "text": [
      "(100, 1)\n"
     ]
    }
   ],
   "source": [
    "X = x.reshape(-1, 1)\n",
    "print(X.shape)"
   ]
  },
  {
   "cell_type": "code",
   "execution_count": 11,
   "metadata": {},
   "outputs": [
    {
     "data": {
      "text/plain": [
       "LinearRegression()"
      ]
     },
     "execution_count": 11,
     "metadata": {},
     "output_type": "execute_result"
    }
   ],
   "source": [
    "regr_lin.fit(X,y)#用linear 訓練"
   ]
  },
  {
   "cell_type": "code",
   "execution_count": 13,
   "metadata": {},
   "outputs": [
    {
     "name": "stdout",
     "output_type": "stream",
     "text": [
      "0.5712298023034195\n"
     ]
    },
    {
     "data": {
      "image/png": "[encoded data removed]",
      "text/plain": [
       "<Figure size 432x288 with 1 Axes>"
      ]
     },
     "metadata": {
      "needs_background": "light"
     },
     "output_type": "display_data"
    }
   ],
   "source": [
    "Y=regr_lin.predict(X)\n",
    "plt.scatter(x,y)\n",
    "plt.plot(x,Y , color='r')\n",
    "mse = np.sum((Y-y)**2) / len(y)\n",
    "print(mse)"
   ]
  },
  {
   "cell_type": "markdown",
   "metadata": {},
   "source": [
    "果然超級不準, 該如何是好?"
   ]
  },
  {
   "cell_type": "markdown",
   "metadata": {},
   "source": [
    "#### 多項式\n",
    "\n",
    "多項式5次方"
   ]
  },
  {
   "cell_type": "markdown",
   "metadata": {},
   "source": [
    "$$\\widehat{y}=xw+b=w_{1}x_{1}+w_{2}x_{1}^{2}+w_{3}x_{1}^{3}+w_{4}x_{1}^{4}+w_{5}x_{1}^{5}+b$$"
   ]
  },
  {
   "cell_type": "code",
   "execution_count": 14,
   "metadata": {},
   "outputs": [
    {
     "name": "stdout",
     "output_type": "stream",
     "text": [
      "(100,)\n"
     ]
    }
   ],
   "source": [
    "print(x.shape)"
   ]
  },
  {
   "cell_type": "code",
   "execution_count": 15,
   "metadata": {},
   "outputs": [
    {
     "name": "stdout",
     "output_type": "stream",
     "text": [
      "(100, 5)\n"
     ]
    }
   ],
   "source": [
    "X_poly = np.array([[k, k**2, k**3, k**4, k**5] for k in x])  # add k**6 to try it\n",
    "print(X_poly.shape)"
   ]
  },
  {
   "cell_type": "code",
   "execution_count": 16,
   "metadata": {},
   "outputs": [],
   "source": [
    "regr_poly = LinearRegression()"
   ]
  },
  {
   "cell_type": "code",
   "execution_count": 17,
   "metadata": {},
   "outputs": [
    {
     "data": {
      "text/plain": [
       "LinearRegression()"
      ]
     },
     "execution_count": 17,
     "metadata": {},
     "output_type": "execute_result"
    }
   ],
   "source": [
    "regr_poly.fit(X_poly, y)"
   ]
  },
  {
   "cell_type": "code",
   "execution_count": 18,
   "metadata": {},
   "outputs": [
    {
     "data": {
      "text/plain": [
       "[<matplotlib.lines.Line2D at 0x2b8e92aaa30>]"
      ]
     },
     "execution_count": 18,
     "metadata": {},
     "output_type": "execute_result"
    },
    {
     "data": {
      "image/png": "[encoded data removed]",
      "text/plain": [
       "<Figure size 432x288 with 1 Axes>"
      ]
     },
     "metadata": {
      "needs_background": "light"
     },
     "output_type": "display_data"
    }
   ],
   "source": [
    "plt.scatter(x,y)\n",
    "plt.plot(x, regr_poly.predict(X_poly), 'r')"
   ]
  },
  {
   "cell_type": "code",
   "execution_count": 19,
   "metadata": {},
   "outputs": [
    {
     "name": "stdout",
     "output_type": "stream",
     "text": [
      "Coefficients:  [-1.2050498   1.75459562 -0.77968706  0.16577126 -0.01294455]\n",
      "interception:  0.8793592490409883\n"
     ]
    }
   ],
   "source": [
    "print('Coefficients: ', regr_poly.coef_)\n",
    "print('interception: ', regr_poly.intercept_)"
   ]
  },
  {
   "cell_type": "code",
   "execution_count": 20,
   "metadata": {},
   "outputs": [
    {
     "data": {
      "text/plain": [
       "array([0.87935925, 0.82287433, 0.77475282, 0.73443026, 0.70136702,\n",
       "       0.67504785, 0.65498134, 0.64069942, 0.63175683, 0.62773062,\n",
       "       0.62821966, 0.63284409, 0.64124486, 0.65308316, 0.66803996,\n",
       "       0.68581548, 0.70612866, 0.72871669, 0.75333447, 0.77975412,\n",
       "       0.80776444, 0.83717042, 0.86779274, 0.89946724, 0.9320444 ,\n",
       "       0.96538888, 0.99937895, 1.033906  , 1.06887406, 1.10419923,\n",
       "       1.13980924, 1.17564288, 1.21164951, 1.24778856, 1.28402902,\n",
       "       1.32034891, 1.35673479, 1.39318122, 1.42969029, 1.46627109,\n",
       "       1.50293918, 1.53971612, 1.57662892, 1.61370957, 1.65099449,\n",
       "       1.68852404, 1.726342  , 1.76449509, 1.80303241, 1.84200496,\n",
       "       1.88146514, 1.9214662 , 1.96206178, 2.00330536, 2.04524976,\n",
       "       2.08794663, 2.13144596, 2.17579553, 2.22104044, 2.26722257,\n",
       "       2.31438007, 2.36254689, 2.41175221, 2.46201998, 2.51336837,\n",
       "       2.5658093 , 2.61934787, 2.67398194, 2.72970153, 2.78648835,\n",
       "       2.8443153 , 2.90314593, 2.96293396, 3.02362273, 3.08514476,\n",
       "       3.14742114, 3.2103611 , 3.27386149, 3.33780622, 3.40206579,\n",
       "       3.46649679, 3.53094135, 3.59522667, 3.65916446, 3.7225505 ,\n",
       "       3.78516406, 3.84676743, 3.90710539, 3.96590472, 4.02287367,\n",
       "       4.07770146, 4.13005777, 4.17959222, 4.22593386, 4.26869068,\n",
       "       4.30744909, 4.34177337, 4.37120524, 4.39526327, 4.41344242])"
      ]
     },
     "execution_count": 20,
     "metadata": {},
     "output_type": "execute_result"
    }
   ],
   "source": [
    "W=regr_poly.coef_\n",
    "b=regr_poly.intercept_\n",
    "np.dot(X_poly,W.T)+b#矩陣相成注意維度"
   ]
  },
  {
   "cell_type": "code",
   "execution_count": 21,
   "metadata": {},
   "outputs": [
    {
     "data": {
      "text/plain": [
       "array([0.87935925, 0.82287433, 0.77475282, 0.73443026, 0.70136702,\n",
       "       0.67504785, 0.65498134, 0.64069942, 0.63175683, 0.62773062,\n",
       "       0.62821966, 0.63284409, 0.64124486, 0.65308316, 0.66803996,\n",
       "       0.68581548, 0.70612866, 0.72871669, 0.75333447, 0.77975412,\n",
       "       0.80776444, 0.83717042, 0.86779274, 0.89946724, 0.9320444 ,\n",
       "       0.96538888, 0.99937895, 1.033906  , 1.06887406, 1.10419923,\n",
       "       1.13980924, 1.17564288, 1.21164951, 1.24778856, 1.28402902,\n",
       "       1.32034891, 1.35673479, 1.39318122, 1.42969029, 1.46627109,\n",
       "       1.50293918, 1.53971612, 1.57662892, 1.61370957, 1.65099449,\n",
       "       1.68852404, 1.726342  , 1.76449509, 1.80303241, 1.84200496,\n",
       "       1.88146514, 1.9214662 , 1.96206178, 2.00330536, 2.04524976,\n",
       "       2.08794663, 2.13144596, 2.17579553, 2.22104044, 2.26722257,\n",
       "       2.31438007, 2.36254689, 2.41175221, 2.46201998, 2.51336837,\n",
       "       2.5658093 , 2.61934787, 2.67398194, 2.72970153, 2.78648835,\n",
       "       2.8443153 , 2.90314593, 2.96293396, 3.02362273, 3.08514476,\n",
       "       3.14742114, 3.2103611 , 3.27386149, 3.33780622, 3.40206579,\n",
       "       3.46649679, 3.53094135, 3.59522667, 3.65916446, 3.7225505 ,\n",
       "       3.78516406, 3.84676743, 3.90710539, 3.96590472, 4.02287367,\n",
       "       4.07770146, 4.13005777, 4.17959222, 4.22593386, 4.26869068,\n",
       "       4.30744909, 4.34177337, 4.37120524, 4.39526327, 4.41344242])"
      ]
     },
     "execution_count": 21,
     "metadata": {},
     "output_type": "execute_result"
    }
   ],
   "source": [
    "regr_poly.predict(X_poly)"
   ]
  },
  {
   "cell_type": "markdown",
   "metadata": {},
   "source": [
    "#### RBF\n",
    "\n",
    "$$\\phi_i = e^{-\\| x - c_i \\|^2/2\\sigma^2}$$\n",
    "做常態分佈的方程式"
   ]
  },
  {
   "cell_type": "code",
   "execution_count": 22,
   "metadata": {},
   "outputs": [],
   "source": [
    "# normal distrubution\n",
    "def RBF(x, center, sigma):\n",
    "    k = np.exp(-(x - center)**2/(2*sigma**2))\n",
    "    return k"
   ]
  },
  {
   "cell_type": "code",
   "execution_count": 23,
   "metadata": {},
   "outputs": [],
   "source": [
    "sigma = 0.3"
   ]
  },
  {
   "cell_type": "code",
   "execution_count": 30,
   "metadata": {},
   "outputs": [],
   "source": [
    "X_rbf = np.array([[RBF(k, .5, sigma), \n",
    "                  RBF(k, 1.5, sigma),\n",
    "                  RBF(k, 2.5, sigma),\n",
    "                  RBF(k, 3.5, sigma),\n",
    "                  RBF(k, 4.5, sigma)] for k in x])\n",
    "#RBF(k,平均值,標準差)"
   ]
  },
  {
   "cell_type": "code",
   "execution_count": 25,
   "metadata": {},
   "outputs": [],
   "source": [
    "regr_rbf = LinearRegression()"
   ]
  },
  {
   "cell_type": "code",
   "execution_count": 26,
   "metadata": {},
   "outputs": [
    {
     "data": {
      "text/plain": [
       "LinearRegression()"
      ]
     },
     "execution_count": 26,
     "metadata": {},
     "output_type": "execute_result"
    }
   ],
   "source": [
    "regr_rbf.fit(X_rbf, y)"
   ]
  },
  {
   "cell_type": "code",
   "execution_count": 27,
   "metadata": {
    "scrolled": true
   },
   "outputs": [
    {
     "data": {
      "text/plain": [
       "[<matplotlib.lines.Line2D at 0x2b8e91ee3d0>]"
      ]
     },
     "execution_count": 27,
     "metadata": {},
     "output_type": "execute_result"
    },
    {
     "data": {
      "image/png": "[encoded data removed]",
      "text/plain": [
       "<Figure size 432x288 with 1 Axes>"
      ]
     },
     "metadata": {
      "needs_background": "light"
     },
     "output_type": "display_data"
    }
   ],
   "source": [
    "plt.scatter(x,y)\n",
    "plt.plot(x, regr_rbf.predict(X_rbf), 'r')\n",
    "#分0.5 1.5 2.5 3.5 4.5分別去預測"
   ]
  },
  {
   "cell_type": "code",
   "execution_count": 31,
   "metadata": {},
   "outputs": [
    {
     "name": "stdout",
     "output_type": "stream",
     "text": [
      "Coefficients:  [-0.99442749 -1.90968642  1.18219029  0.2505497   3.32583281]\n",
      "interception:  1.8458022374912095\n"
     ]
    }
   ],
   "source": [
    "print('Coefficients: ', regr_rbf.coef_)#斜率會有5個點 因為我們分成五筆資料預測\n",
    "print('interception: ', regr_rbf.intercept_)"
   ]
  },
  {
   "cell_type": "markdown",
   "metadata": {},
   "source": [
    "#### Comparison"
   ]
  },
  {
   "cell_type": "code",
   "execution_count": 32,
   "metadata": {},
   "outputs": [],
   "source": [
    "Y_lin = regr_lin.predict(X)\n",
    "Y_poly = regr_poly.predict(X_poly)\n",
    "Y_rbf = regr_rbf.predict(X_rbf)"
   ]
  },
  {
   "cell_type": "code",
   "execution_count": 33,
   "metadata": {
    "scrolled": true
   },
   "outputs": [
    {
     "data": {
      "text/plain": [
       "<matplotlib.legend.Legend at 0x2b8eac120d0>"
      ]
     },
     "execution_count": 33,
     "metadata": {},
     "output_type": "execute_result"
    },
    {
     "data": {
      "image/png": "[encoded data removed]",
      "text/plain": [
       "<Figure size 432x288 with 1 Axes>"
      ]
     },
     "metadata": {
      "needs_background": "light"
     },
     "output_type": "display_data"
    }
   ],
   "source": [
    "plt.scatter(x,y)\n",
    "\n",
    "plt.plot(x, Y_lin, label='linear')\n",
    "plt.plot(x, Y_poly, label='polynomial')\n",
    "plt.plot(x, Y_rbf, label='rbf')\n",
    "plt.legend()"
   ]
  },
  {
   "cell_type": "markdown",
   "metadata": {
    "collapsed": true
   },
   "source": [
    "## 請計算模型的MSE"
   ]
  },
  {
   "cell_type": "code",
   "execution_count": 34,
   "metadata": {},
   "outputs": [
    {
     "name": "stdout",
     "output_type": "stream",
     "text": [
      "0.5712298023034195\n"
     ]
    }
   ],
   "source": [
    "print(np.sum((regr_lin.predict(X)-y)**2) / len(y))#第一個方法mse"
   ]
  },
  {
   "cell_type": "code",
   "execution_count": 35,
   "metadata": {},
   "outputs": [
    {
     "name": "stdout",
     "output_type": "stream",
     "text": [
      "0.511302285694682\n"
     ]
    }
   ],
   "source": [
    "print(np.sum((regr_poly.predict(X_poly)-y)**2) / len(y))#第二個方法mse"
   ]
  },
  {
   "cell_type": "code",
   "execution_count": 36,
   "metadata": {},
   "outputs": [
    {
     "name": "stdout",
     "output_type": "stream",
     "text": [
      "0.2599795952492851\n"
     ]
    }
   ],
   "source": [
    "print(np.sum((regr_rbf.predict(X_rbf)-y)**2) / len(y))#第三個方法mse"
   ]
  },
  {
   "cell_type": "code",
   "execution_count": null,
   "metadata": {},
   "outputs": [],
   "source": []
  },
  {
   "cell_type": "code",
   "execution_count": null,
   "metadata": {},
   "outputs": [],
   "source": []
  }
 ],
 "metadata": {
  "anaconda-cloud": {},
  "kernelspec": {
   "display_name": "Python 3 (ipykernel)",
   "language": "python",
   "name": "python3"
  },
  "language_info": {
   "codemirror_mode": {
    "name": "ipython",
    "version": 3
   },
   "file_extension": ".py",
   "mimetype": "text/x-python",
   "name": "python",
   "nbconvert_exporter": "python",
   "pygments_lexer": "ipython3",
   "version": "3.9.7"
  }
 },
 "nbformat": 4,
 "nbformat_minor": 1
}
