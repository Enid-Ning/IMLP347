{
 "cells": [
  {
   "cell_type": "markdown",
   "metadata": {},
   "source": [
    "# Linear Regression\n"
   ]
  },
  {
   "cell_type": "code",
   "execution_count": 4,
   "metadata": {},
   "outputs": [],
   "source": [
    "%matplotlib inline\n",
    "import numpy as np\n",
    "import matplotlib.pyplot as plt"
   ]
  },
  {
   "cell_type": "markdown",
   "metadata": {},
   "source": [
    "## 2.  線性迴歸訓練資料、測試資料\n",
    "\n",
    "80%  training data, 20%  testing data ==> 先利用此來驗證各種模型(演算法)的好壞及調好到最佳參數<br>\n",
    "之後可以利用由這個80%的訓練資料所得的模型後,拿100%資料re-train模型以得到最佳模型 (此model會更佳fit data)\n",
    "<br>分成training 和test，用test資料給module打分數(誤差值)"
   ]
  },
  {
   "cell_type": "code",
   "execution_count": 5,
   "metadata": {},
   "outputs": [],
   "source": [
    "from sklearn.model_selection import train_test_split\n",
    "from sklearn.linear_model import LinearRegression"
   ]
  },
  {
   "cell_type": "code",
   "execution_count": 7,
   "metadata": {},
   "outputs": [
    {
     "name": "stdout",
     "output_type": "stream",
     "text": [
      "[4.08163265 1.73469388 1.83673469 0.         2.75510204 3.36734694\n",
      " 3.67346939 4.28571429 1.02040816 0.30612245 4.18367347 1.32653061\n",
      " 4.69387755 0.20408163 3.87755102 3.97959184 0.51020408 4.3877551\n",
      " 3.7755102  3.06122449 0.6122449  2.95918367 1.63265306 1.93877551\n",
      " 5.         4.48979592 2.14285714 3.26530612 3.46938776 0.71428571\n",
      " 2.24489796 1.12244898 2.04081633 0.91836735 4.89795918 2.85714286\n",
      " 3.16326531 1.53061224 2.65306122 3.57142857]\n"
     ]
    }
   ],
   "source": [
    "x = np.linspace(0, 5, 50)\n",
    "y = 1.2*x + 0.8 + 0.6*np.random.randn(50)\n",
    "x_train, x_test, y_train, y_test = train_test_split(x, y, test_size=0.2, random_state=20)#內建幫你切割資料的函式\n",
    "#                                             random state 沒有內建數值是隨機打散資料 如果有設聘數值，相同數值打亂方式相同\n",
    "print(x_train)#生成dataset"
   ]
  },
  {
   "cell_type": "code",
   "execution_count": 8,
   "metadata": {},
   "outputs": [
    {
     "data": {
      "text/plain": [
       "array([-0.09115201,  2.01215126,  0.86682148,  2.20485452,  0.82736069,\n",
       "        1.31875324,  0.07305   ,  1.26756822,  0.38095191,  2.66363111,\n",
       "        1.69665074,  1.395396  ,  1.55993066,  2.47212773,  2.37787087,\n",
       "        1.77999182,  2.89545194,  2.94870671,  1.84649729,  2.75959855,\n",
       "        3.83542628,  4.88301696,  3.60252639,  3.39020057,  4.27990137,\n",
       "        4.41684736,  3.46633508,  4.26729097,  5.09508202,  4.75768559,\n",
       "        3.79506603,  4.18546352,  4.90439826,  5.37979305,  5.22048741,\n",
       "        4.38351372,  5.08845191,  5.39503682,  4.41530059,  6.03104449,\n",
       "        6.515469  ,  6.24375998,  5.15645072,  6.68592548,  5.53322591,\n",
       "        5.45402914,  7.49077017,  6.04873924,  6.75822161,  6.95578593])"
      ]
     },
     "execution_count": 8,
     "metadata": {},
     "output_type": "execute_result"
    }
   ],
   "source": [
    "y"
   ]
  },
  {
   "cell_type": "code",
   "execution_count": 9,
   "metadata": {},
   "outputs": [
    {
     "data": {
      "text/plain": [
       "<matplotlib.collections.PathCollection at 0x26b836b4370>"
      ]
     },
     "execution_count": 9,
     "metadata": {},
     "output_type": "execute_result"
    },
    {
     "data": {
      "image/png": "[encoded data removed]",
      "text/plain": [
       "<Figure size 432x288 with 1 Axes>"
      ]
     },
     "metadata": {
      "needs_background": "light"
     },
     "output_type": "display_data"
    }
   ],
   "source": [
    "plt.scatter(x_train, y_train)"
   ]
  },
  {
   "cell_type": "markdown",
   "metadata": {},
   "source": [
    "#### 用訓練資料來 fit 函數\n",
    "\n",
    "記得現在我們只用 80% 的資料去訓練。"
   ]
  },
  {
   "cell_type": "code",
   "execution_count": 10,
   "metadata": {
    "scrolled": true
   },
   "outputs": [
    {
     "name": "stdout",
     "output_type": "stream",
     "text": [
      "Coefficients:  [1.29208113]\n",
      "interception:  0.5349467804285664\n"
     ]
    }
   ],
   "source": [
    "regr = LinearRegression()\n",
    "X_train = x_train.reshape(-1,1)#dataset reshape成二維\n",
    "regr.fit(X_train,y_train)\n",
    "print('Coefficients: ', regr.coef_)\n",
    "print('interception: ', regr.intercept_)"
   ]
  },
  {
   "cell_type": "code",
   "execution_count": 11,
   "metadata": {},
   "outputs": [],
   "source": [
    "Y_train = regr.predict(X_train)"
   ]
  },
  {
   "cell_type": "code",
   "execution_count": 14,
   "metadata": {},
   "outputs": [
    {
     "name": "stdout",
     "output_type": "stream",
     "text": [
      "0.42652973943861505\n"
     ]
    }
   ],
   "source": [
    "mse = np.sum((Y_train-y_train)**2) / len(y_train)#檢查誤差值\n",
    "print(mse)"
   ]
  },
  {
   "cell_type": "code",
   "execution_count": 15,
   "metadata": {},
   "outputs": [
    {
     "data": {
      "text/plain": [
       "[<matplotlib.lines.Line2D at 0x26b84eb83a0>]"
      ]
     },
     "execution_count": 15,
     "metadata": {},
     "output_type": "execute_result"
    },
    {
     "data": {
      "image/png": "[encoded data removed]",
      "text/plain": [
       "<Figure size 432x288 with 1 Axes>"
      ]
     },
     "metadata": {
      "needs_background": "light"
     },
     "output_type": "display_data"
    }
   ],
   "source": [
    "plt.scatter(x_train, y_train)\n",
    "plt.plot(x_train, Y_train, 'r')"
   ]
  },
  {
   "cell_type": "markdown",
   "metadata": {},
   "source": [
    "#### test with test data"
   ]
  },
  {
   "cell_type": "code",
   "execution_count": 16,
   "metadata": {},
   "outputs": [
    {
     "name": "stdout",
     "output_type": "stream",
     "text": [
      "[2.11708694 2.38077697 1.06232684 1.58970689 6.4679724  0.66679179\n",
      " 3.83107212 3.69922711 6.73166242 3.5673821 ]\n"
     ]
    }
   ],
   "source": [
    "X_test = x_test.reshape(-1,1)\n",
    "Y_test = regr.predict(X_test)\n",
    "\n",
    "print(Y_test)#用內建涵式印出"
   ]
  },
  {
   "cell_type": "markdown",
   "metadata": {},
   "source": [
    "$$\\widehat{y}=xw+b=w_{1}x_{1}+b$$"
   ]
  },
  {
   "cell_type": "code",
   "execution_count": 18,
   "metadata": {},
   "outputs": [
    {
     "data": {
      "text/plain": [
       "array([[2.11708694],\n",
       "       [2.38077697],\n",
       "       [1.06232684],\n",
       "       [1.58970689],\n",
       "       [6.4679724 ],\n",
       "       [0.66679179],\n",
       "       [3.83107212],\n",
       "       [3.69922711],\n",
       "       [6.73166242],\n",
       "       [3.5673821 ]])"
      ]
     },
     "execution_count": 18,
     "metadata": {},
     "output_type": "execute_result"
    }
   ],
   "source": [
    "#Y=WX+b\n",
    "W=regr.coef_\n",
    "b=regr.intercept_\n",
    "W*X_test+b\n",
    "#從知道的w和b手動算出"
   ]
  },
  {
   "cell_type": "code",
   "execution_count": 20,
   "metadata": {},
   "outputs": [
    {
     "name": "stdout",
     "output_type": "stream",
     "text": [
      "0.5842894882738393\n"
     ]
    }
   ],
   "source": [
    "mse = np.sum((Y_test-y_test)**2) / len(y_test)\n",
    "print(mse)#mse誤差m誤差 越接近0越好"
   ]
  },
  {
   "cell_type": "code",
   "execution_count": 21,
   "metadata": {
    "scrolled": false
   },
   "outputs": [
    {
     "data": {
      "text/plain": [
       "<matplotlib.legend.Legend at 0x26b84f1eca0>"
      ]
     },
     "execution_count": 21,
     "metadata": {},
     "output_type": "execute_result"
    },
    {
     "data": {
      "image/png": "[encoded data removed]",
      "text/plain": [
       "<Figure size 432x288 with 1 Axes>"
      ]
     },
     "metadata": {
      "needs_background": "light"
     },
     "output_type": "display_data"
    }
   ],
   "source": [
    "title='f(x)=1.2x+0.8'+',mse:'+str(round(mse,2))\n",
    "plt.title(title)\n",
    "plt.xlabel('x')\n",
    "plt.ylabel('y')\n",
    "#plt.grid(True)\n",
    "plt.scatter(x_test, y_test,alpha=0.8,label='Ground Truth')\n",
    "plt.scatter(x_test, Y_test, c='r', alpha=0.8,label='Predict')\n",
    "plt.legend()"
   ]
  },
  {
   "cell_type": "code",
   "execution_count": null,
   "metadata": {},
   "outputs": [],
   "source": []
  },
  {
   "cell_type": "code",
   "execution_count": null,
   "metadata": {},
   "outputs": [],
   "source": []
  }
 ],
 "metadata": {
  "anaconda-cloud": {},
  "kernelspec": {
   "display_name": "Python 3 (ipykernel)",
   "language": "python",
   "name": "python3"
  },
  "language_info": {
   "codemirror_mode": {
    "name": "ipython",
    "version": 3
   },
   "file_extension": ".py",
   "mimetype": "text/x-python",
   "name": "python",
   "nbconvert_exporter": "python",
   "pygments_lexer": "ipython3",
   "version": "3.9.7"
  }
 },
 "nbformat": 4,
 "nbformat_minor": 1
}
