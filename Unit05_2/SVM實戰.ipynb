{
 "cells": [
  {
   "cell_type": "markdown",
   "metadata": {},
   "source": [
    "# 乳癌資料庫預測SVM分類\n",
    ">使用scikit-learn 機器學習套件裡的SVR演算法\n",
    "\n",
    "* (一)引入函式庫及內建乳癌資料集<br>\n",
    "引入之函式庫如下<br>\n",
    "sklearn.datasets: 用來匯入內建之乳癌資料集`datasets.load_breast_cancer()`<br>\n",
    "sklearn.SVR: 支持向量機回歸分析之演算法<br>\n",
    "matplotlib.pyplot: 用來繪製影像"
   ]
  },
  {
   "cell_type": "code",
   "execution_count": 1,
   "metadata": {},
   "outputs": [],
   "source": [
    "from sklearn import svm\n",
    "from sklearn import datasets\n",
    "from sklearn.model_selection import train_test_split\n",
    "from sklearn.metrics import accuracy_score"
   ]
  },
  {
   "cell_type": "markdown",
   "metadata": {},
   "source": [
    "## Step1. 下載資料"
   ]
  },
  {
   "cell_type": "code",
   "execution_count": 10,
   "metadata": {},
   "outputs": [
    {
     "name": "stdout",
     "output_type": "stream",
     "text": [
      "dict_keys(['data', 'target', 'frame', 'target_names', 'DESCR', 'feature_names', 'filename'])\n",
      "['mean radius' 'mean texture' 'mean perimeter' 'mean area'\n",
      " 'mean smoothness' 'mean compactness' 'mean concavity'\n",
      " 'mean concave points' 'mean symmetry' 'mean fractal dimension'\n",
      " 'radius error' 'texture error' 'perimeter error' 'area error'\n",
      " 'smoothness error' 'compactness error' 'concavity error'\n",
      " 'concave points error' 'symmetry error' 'fractal dimension error'\n",
      " 'worst radius' 'worst texture' 'worst perimeter' 'worst area'\n",
      " 'worst smoothness' 'worst compactness' 'worst concavity'\n",
      " 'worst concave points' 'worst symmetry' 'worst fractal dimension']\n",
      "['malignant' 'benign']\n",
      "(569, 30)\n",
      "(45, 3)\n",
      "(45,)\n",
      "[[ 17.99   10.38  122.8  ]\n",
      " [ 20.57   17.77  132.9  ]\n",
      " [ 19.69   21.25  130.   ]\n",
      " [ 11.42   20.38   77.58 ]\n",
      " [ 20.29   14.34  135.1  ]\n",
      " [ 12.45   15.7    82.57 ]\n",
      " [ 18.25   19.98  119.6  ]\n",
      " [ 13.71   20.83   90.2  ]\n",
      " [ 13.     21.82   87.5  ]\n",
      " [ 12.46   24.04   83.97 ]\n",
      " [ 16.02   23.24  102.7  ]\n",
      " [ 15.78   17.89  103.6  ]\n",
      " [ 19.17   24.8   132.4  ]\n",
      " [ 15.85   23.95  103.7  ]\n",
      " [ 13.73   22.61   93.6  ]\n",
      " [ 14.54   27.54   96.73 ]\n",
      " [ 14.68   20.13   94.74 ]\n",
      " [ 16.13   20.68  108.1  ]\n",
      " [ 19.81   22.15  130.   ]\n",
      " [ 13.54   14.36   87.46 ]\n",
      " [ 13.08   15.71   85.63 ]\n",
      " [  9.504  12.44   60.34 ]\n",
      " [ 15.34   14.26  102.5  ]\n",
      " [ 21.16   23.04  137.2  ]\n",
      " [ 16.65   21.38  110.   ]\n",
      " [ 17.14   16.4   116.   ]\n",
      " [ 14.58   21.53   97.41 ]\n",
      " [ 18.61   20.25  122.1  ]\n",
      " [ 15.3    25.27  102.4  ]\n",
      " [ 17.57   15.05  115.   ]\n",
      " [ 18.63   25.11  124.8  ]\n",
      " [ 11.84   18.7    77.93 ]\n",
      " [ 17.02   23.98  112.8  ]\n",
      " [ 19.27   26.47  127.9  ]\n",
      " [ 16.13   17.88  107.   ]\n",
      " [ 16.74   21.59  110.1  ]\n",
      " [ 14.25   21.72   93.63 ]\n",
      " [ 13.03   18.42   82.61 ]\n",
      " [ 14.99   25.2    95.54 ]\n",
      " [ 13.48   20.82   88.4  ]\n",
      " [ 13.44   21.58   86.18 ]\n",
      " [ 10.95   21.35   71.9  ]\n",
      " [ 19.07   24.81  128.3  ]\n",
      " [ 13.28   20.28   87.32 ]\n",
      " [ 13.17   21.81   85.42 ]]\n"
     ]
    }
   ],
   "source": [
    "breast_cancer=datasets.load_breast_cancer()\n",
    "X=breast_cancer.data[:45,0:3]\n",
    "y=breast_cancer.target[:45]\n",
    "print(breast_cancer.keys())\n",
    "print(breast_cancer.feature_names)\n",
    "print(breast_cancer.target_names)\n",
    "print(breast_cancer.data.shape)\n",
    "print(X.shape)\n",
    "print(y.shape)\n",
    "print(X)"
   ]
  },
  {
   "cell_type": "code",
   "execution_count": null,
   "metadata": {},
   "outputs": [],
   "source": []
  },
  {
   "cell_type": "code",
   "execution_count": null,
   "metadata": {},
   "outputs": [],
   "source": []
  },
  {
   "cell_type": "code",
   "execution_count": null,
   "metadata": {},
   "outputs": [],
   "source": []
  },
  {
   "cell_type": "markdown",
   "metadata": {},
   "source": [
    "## Step2. 區分訓練集與測試集"
   ]
  },
  {
   "cell_type": "code",
   "execution_count": 11,
   "metadata": {},
   "outputs": [],
   "source": [
    "X_train, X_test, y_train, y_test = train_test_split(X, y,test_size=0.3,random_state=0)"
   ]
  },
  {
   "cell_type": "markdown",
   "metadata": {},
   "source": [
    "## Step3. 建模"
   ]
  },
  {
   "cell_type": "code",
   "execution_count": 12,
   "metadata": {},
   "outputs": [
    {
     "data": {
      "text/plain": [
       "SVC(C=100, gamma='auto', kernel='poly')"
      ]
     },
     "execution_count": 12,
     "metadata": {},
     "output_type": "execute_result"
    }
   ],
   "source": [
    "clf=svm.SVC(kernel='poly',gamma='auto',C=100)\n",
    "clf.fit(X_train,y_train)"
   ]
  },
  {
   "cell_type": "markdown",
   "metadata": {},
   "source": [
    "## Step4. 預測\n",
    "\n",
    "```\n",
    "\n",
    "```\n"
   ]
  },
  {
   "cell_type": "code",
   "execution_count": 13,
   "metadata": {},
   "outputs": [
    {
     "data": {
      "text/plain": [
       "array([0, 0, 0, 0, 0, 0, 0, 0, 0, 0, 0, 0, 0, 0])"
      ]
     },
     "execution_count": 13,
     "metadata": {},
     "output_type": "execute_result"
    }
   ],
   "source": [
    "clf.predict(X_test)"
   ]
  },
  {
   "cell_type": "markdown",
   "metadata": {},
   "source": [
    "## Step5. 準確度分析"
   ]
  },
  {
   "cell_type": "code",
   "execution_count": 14,
   "metadata": {},
   "outputs": [
    {
     "name": "stdout",
     "output_type": "stream",
     "text": [
      "1.0\n",
      "0.8571428571428571\n"
     ]
    }
   ],
   "source": [
    "print(clf.score(X_train,y_train))\n",
    "print(clf.score(X_test, y_test))"
   ]
  },
  {
   "cell_type": "code",
   "execution_count": null,
   "metadata": {},
   "outputs": [],
   "source": []
  },
  {
   "cell_type": "code",
   "execution_count": null,
   "metadata": {},
   "outputs": [],
   "source": []
  }
 ],
 "metadata": {
  "kernelspec": {
   "display_name": "Python 3 (ipykernel)",
   "language": "python",
   "name": "python3"
  },
  "language_info": {
   "codemirror_mode": {
    "name": "ipython",
    "version": 3
   },
   "file_extension": ".py",
   "mimetype": "text/x-python",
   "name": "python",
   "nbconvert_exporter": "python",
   "pygments_lexer": "ipython3",
   "version": "3.9.7"
  }
 },
 "nbformat": 4,
 "nbformat_minor": 2
}
